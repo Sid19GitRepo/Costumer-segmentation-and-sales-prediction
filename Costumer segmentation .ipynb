{
 "cells": [
  {
   "cell_type": "markdown",
   "id": "6b520b7f",
   "metadata": {},
   "source": [
    "# Section 1: EDA"
   ]
  },
  {
   "cell_type": "code",
   "execution_count": 1,
   "id": "31bd5a35",
   "metadata": {},
   "outputs": [],
   "source": [
    "# importing important llibraries\n",
    "import pandas as pd\n",
    "import numpy as np\n",
    "import matplotlib.pyplot as plt\n",
    "import seaborn as sns\n",
    "from sklearn.cluster import KMeans"
   ]
  },
  {
   "cell_type": "code",
   "execution_count": 3,
   "id": "3bd25d0f",
   "metadata": {},
   "outputs": [
    {
     "name": "stdout",
     "output_type": "stream",
     "text": [
      "541910\n"
     ]
    },
    {
     "data": {
      "text/html": [
       "<div>\n",
       "<style scoped>\n",
       "    .dataframe tbody tr th:only-of-type {\n",
       "        vertical-align: middle;\n",
       "    }\n",
       "\n",
       "    .dataframe tbody tr th {\n",
       "        vertical-align: top;\n",
       "    }\n",
       "\n",
       "    .dataframe thead th {\n",
       "        text-align: right;\n",
       "    }\n",
       "</style>\n",
       "<table border=\"1\" class=\"dataframe\">\n",
       "  <thead>\n",
       "    <tr style=\"text-align: right;\">\n",
       "      <th></th>\n",
       "      <th>Invoice</th>\n",
       "      <th>StockCode</th>\n",
       "      <th>Description</th>\n",
       "      <th>Quantity</th>\n",
       "      <th>InvoiceDate</th>\n",
       "      <th>Price</th>\n",
       "      <th>Customer ID</th>\n",
       "      <th>Country</th>\n",
       "    </tr>\n",
       "  </thead>\n",
       "  <tbody>\n",
       "    <tr>\n",
       "      <th>0</th>\n",
       "      <td>536365</td>\n",
       "      <td>85123A</td>\n",
       "      <td>WHITE HANGING HEART T-LIGHT HOLDER</td>\n",
       "      <td>6</td>\n",
       "      <td>2010-12-01 08:26:00</td>\n",
       "      <td>2.55</td>\n",
       "      <td>17850.0</td>\n",
       "      <td>United Kingdom</td>\n",
       "    </tr>\n",
       "    <tr>\n",
       "      <th>1</th>\n",
       "      <td>536365</td>\n",
       "      <td>71053</td>\n",
       "      <td>WHITE METAL LANTERN</td>\n",
       "      <td>6</td>\n",
       "      <td>2010-12-01 08:26:00</td>\n",
       "      <td>3.39</td>\n",
       "      <td>17850.0</td>\n",
       "      <td>United Kingdom</td>\n",
       "    </tr>\n",
       "    <tr>\n",
       "      <th>2</th>\n",
       "      <td>536365</td>\n",
       "      <td>84406B</td>\n",
       "      <td>CREAM CUPID HEARTS COAT HANGER</td>\n",
       "      <td>8</td>\n",
       "      <td>2010-12-01 08:26:00</td>\n",
       "      <td>2.75</td>\n",
       "      <td>17850.0</td>\n",
       "      <td>United Kingdom</td>\n",
       "    </tr>\n",
       "    <tr>\n",
       "      <th>3</th>\n",
       "      <td>536365</td>\n",
       "      <td>84029G</td>\n",
       "      <td>KNITTED UNION FLAG HOT WATER BOTTLE</td>\n",
       "      <td>6</td>\n",
       "      <td>2010-12-01 08:26:00</td>\n",
       "      <td>3.39</td>\n",
       "      <td>17850.0</td>\n",
       "      <td>United Kingdom</td>\n",
       "    </tr>\n",
       "    <tr>\n",
       "      <th>4</th>\n",
       "      <td>536365</td>\n",
       "      <td>84029E</td>\n",
       "      <td>RED WOOLLY HOTTIE WHITE HEART.</td>\n",
       "      <td>6</td>\n",
       "      <td>2010-12-01 08:26:00</td>\n",
       "      <td>3.39</td>\n",
       "      <td>17850.0</td>\n",
       "      <td>United Kingdom</td>\n",
       "    </tr>\n",
       "  </tbody>\n",
       "</table>\n",
       "</div>"
      ],
      "text/plain": [
       "  Invoice StockCode                          Description  Quantity  \\\n",
       "0  536365    85123A   WHITE HANGING HEART T-LIGHT HOLDER         6   \n",
       "1  536365     71053                  WHITE METAL LANTERN         6   \n",
       "2  536365    84406B       CREAM CUPID HEARTS COAT HANGER         8   \n",
       "3  536365    84029G  KNITTED UNION FLAG HOT WATER BOTTLE         6   \n",
       "4  536365    84029E       RED WOOLLY HOTTIE WHITE HEART.         6   \n",
       "\n",
       "          InvoiceDate  Price  Customer ID         Country  \n",
       "0 2010-12-01 08:26:00   2.55      17850.0  United Kingdom  \n",
       "1 2010-12-01 08:26:00   3.39      17850.0  United Kingdom  \n",
       "2 2010-12-01 08:26:00   2.75      17850.0  United Kingdom  \n",
       "3 2010-12-01 08:26:00   3.39      17850.0  United Kingdom  \n",
       "4 2010-12-01 08:26:00   3.39      17850.0  United Kingdom  "
      ]
     },
     "execution_count": 3,
     "metadata": {},
     "output_type": "execute_result"
    }
   ],
   "source": [
    "df=pd.read_excel('RetailPulseAssignmentData.xlsx','Year 2010-2011')\n",
    "print(len(df))\n",
    "df.head()"
   ]
  },
  {
   "cell_type": "code",
   "execution_count": 4,
   "id": "df6c8c1c",
   "metadata": {},
   "outputs": [
    {
     "data": {
      "text/html": [
       "<div>\n",
       "<style scoped>\n",
       "    .dataframe tbody tr th:only-of-type {\n",
       "        vertical-align: middle;\n",
       "    }\n",
       "\n",
       "    .dataframe tbody tr th {\n",
       "        vertical-align: top;\n",
       "    }\n",
       "\n",
       "    .dataframe thead th {\n",
       "        text-align: right;\n",
       "    }\n",
       "</style>\n",
       "<table border=\"1\" class=\"dataframe\">\n",
       "  <thead>\n",
       "    <tr style=\"text-align: right;\">\n",
       "      <th></th>\n",
       "      <th>Quantity</th>\n",
       "      <th>Price</th>\n",
       "      <th>Customer ID</th>\n",
       "    </tr>\n",
       "  </thead>\n",
       "  <tbody>\n",
       "    <tr>\n",
       "      <th>count</th>\n",
       "      <td>541910.000000</td>\n",
       "      <td>541910.000000</td>\n",
       "      <td>406830.000000</td>\n",
       "    </tr>\n",
       "    <tr>\n",
       "      <th>mean</th>\n",
       "      <td>9.552234</td>\n",
       "      <td>4.611138</td>\n",
       "      <td>15287.684160</td>\n",
       "    </tr>\n",
       "    <tr>\n",
       "      <th>std</th>\n",
       "      <td>218.080957</td>\n",
       "      <td>96.759765</td>\n",
       "      <td>1713.603074</td>\n",
       "    </tr>\n",
       "    <tr>\n",
       "      <th>min</th>\n",
       "      <td>-80995.000000</td>\n",
       "      <td>-11062.060000</td>\n",
       "      <td>12346.000000</td>\n",
       "    </tr>\n",
       "    <tr>\n",
       "      <th>25%</th>\n",
       "      <td>1.000000</td>\n",
       "      <td>1.250000</td>\n",
       "      <td>13953.000000</td>\n",
       "    </tr>\n",
       "    <tr>\n",
       "      <th>50%</th>\n",
       "      <td>3.000000</td>\n",
       "      <td>2.080000</td>\n",
       "      <td>15152.000000</td>\n",
       "    </tr>\n",
       "    <tr>\n",
       "      <th>75%</th>\n",
       "      <td>10.000000</td>\n",
       "      <td>4.130000</td>\n",
       "      <td>16791.000000</td>\n",
       "    </tr>\n",
       "    <tr>\n",
       "      <th>max</th>\n",
       "      <td>80995.000000</td>\n",
       "      <td>38970.000000</td>\n",
       "      <td>18287.000000</td>\n",
       "    </tr>\n",
       "  </tbody>\n",
       "</table>\n",
       "</div>"
      ],
      "text/plain": [
       "            Quantity          Price    Customer ID\n",
       "count  541910.000000  541910.000000  406830.000000\n",
       "mean        9.552234       4.611138   15287.684160\n",
       "std       218.080957      96.759765    1713.603074\n",
       "min    -80995.000000  -11062.060000   12346.000000\n",
       "25%         1.000000       1.250000   13953.000000\n",
       "50%         3.000000       2.080000   15152.000000\n",
       "75%        10.000000       4.130000   16791.000000\n",
       "max     80995.000000   38970.000000   18287.000000"
      ]
     },
     "execution_count": 4,
     "metadata": {},
     "output_type": "execute_result"
    }
   ],
   "source": [
    "df.describe()"
   ]
  },
  {
   "cell_type": "code",
   "execution_count": 5,
   "id": "0da74d63",
   "metadata": {},
   "outputs": [],
   "source": [
    "# Quantity shouldn't be negative, we'll keep only positive quantity and price\n",
    "df1=df[(df.Quantity>0) & (df.Price>0)]"
   ]
  },
  {
   "cell_type": "code",
   "execution_count": 6,
   "id": "f4ece586",
   "metadata": {},
   "outputs": [
    {
     "data": {
      "text/plain": [
       "Invoice             0\n",
       "StockCode           0\n",
       "Description         0\n",
       "Quantity            0\n",
       "InvoiceDate         0\n",
       "Price               0\n",
       "Customer ID    132220\n",
       "Country             0\n",
       "dtype: int64"
      ]
     },
     "execution_count": 6,
     "metadata": {},
     "output_type": "execute_result"
    }
   ],
   "source": [
    "df1.isnull().sum() #checking if there is any null values"
   ]
  },
  {
   "cell_type": "code",
   "execution_count": 7,
   "id": "ec84599d",
   "metadata": {
    "scrolled": true
   },
   "outputs": [
    {
     "data": {
      "text/html": [
       "<div>\n",
       "<style scoped>\n",
       "    .dataframe tbody tr th:only-of-type {\n",
       "        vertical-align: middle;\n",
       "    }\n",
       "\n",
       "    .dataframe tbody tr th {\n",
       "        vertical-align: top;\n",
       "    }\n",
       "\n",
       "    .dataframe thead th {\n",
       "        text-align: right;\n",
       "    }\n",
       "</style>\n",
       "<table border=\"1\" class=\"dataframe\">\n",
       "  <thead>\n",
       "    <tr style=\"text-align: right;\">\n",
       "      <th></th>\n",
       "      <th>Quantity</th>\n",
       "      <th>Price</th>\n",
       "      <th>Customer ID</th>\n",
       "    </tr>\n",
       "  </thead>\n",
       "  <tbody>\n",
       "    <tr>\n",
       "      <th>count</th>\n",
       "      <td>397885.000000</td>\n",
       "      <td>397885.000000</td>\n",
       "      <td>397885.000000</td>\n",
       "    </tr>\n",
       "    <tr>\n",
       "      <th>mean</th>\n",
       "      <td>12.988208</td>\n",
       "      <td>3.116525</td>\n",
       "      <td>15294.416882</td>\n",
       "    </tr>\n",
       "    <tr>\n",
       "      <th>std</th>\n",
       "      <td>179.331551</td>\n",
       "      <td>22.097861</td>\n",
       "      <td>1713.144421</td>\n",
       "    </tr>\n",
       "    <tr>\n",
       "      <th>min</th>\n",
       "      <td>1.000000</td>\n",
       "      <td>0.001000</td>\n",
       "      <td>12346.000000</td>\n",
       "    </tr>\n",
       "    <tr>\n",
       "      <th>25%</th>\n",
       "      <td>2.000000</td>\n",
       "      <td>1.250000</td>\n",
       "      <td>13969.000000</td>\n",
       "    </tr>\n",
       "    <tr>\n",
       "      <th>50%</th>\n",
       "      <td>6.000000</td>\n",
       "      <td>1.950000</td>\n",
       "      <td>15159.000000</td>\n",
       "    </tr>\n",
       "    <tr>\n",
       "      <th>75%</th>\n",
       "      <td>12.000000</td>\n",
       "      <td>3.750000</td>\n",
       "      <td>16795.000000</td>\n",
       "    </tr>\n",
       "    <tr>\n",
       "      <th>max</th>\n",
       "      <td>80995.000000</td>\n",
       "      <td>8142.750000</td>\n",
       "      <td>18287.000000</td>\n",
       "    </tr>\n",
       "  </tbody>\n",
       "</table>\n",
       "</div>"
      ],
      "text/plain": [
       "            Quantity          Price    Customer ID\n",
       "count  397885.000000  397885.000000  397885.000000\n",
       "mean       12.988208       3.116525   15294.416882\n",
       "std       179.331551      22.097861    1713.144421\n",
       "min         1.000000       0.001000   12346.000000\n",
       "25%         2.000000       1.250000   13969.000000\n",
       "50%         6.000000       1.950000   15159.000000\n",
       "75%        12.000000       3.750000   16795.000000\n",
       "max     80995.000000    8142.750000   18287.000000"
      ]
     },
     "execution_count": 7,
     "metadata": {},
     "output_type": "execute_result"
    }
   ],
   "source": [
    "df2=df1.dropna() # droping null values\n",
    "df2.describe()"
   ]
  },
  {
   "cell_type": "markdown",
   "id": "993671f2",
   "metadata": {},
   "source": [
    "Maximum values of Quantity and Price are quite high as compare to mean >>> removing the outliers"
   ]
  },
  {
   "cell_type": "code",
   "execution_count": 8,
   "id": "dfcd01b5",
   "metadata": {},
   "outputs": [
    {
     "data": {
      "text/html": [
       "<div>\n",
       "<style scoped>\n",
       "    .dataframe tbody tr th:only-of-type {\n",
       "        vertical-align: middle;\n",
       "    }\n",
       "\n",
       "    .dataframe tbody tr th {\n",
       "        vertical-align: top;\n",
       "    }\n",
       "\n",
       "    .dataframe thead th {\n",
       "        text-align: right;\n",
       "    }\n",
       "</style>\n",
       "<table border=\"1\" class=\"dataframe\">\n",
       "  <thead>\n",
       "    <tr style=\"text-align: right;\">\n",
       "      <th></th>\n",
       "      <th>Quantity</th>\n",
       "      <th>Price</th>\n",
       "      <th>Customer ID</th>\n",
       "    </tr>\n",
       "  </thead>\n",
       "  <tbody>\n",
       "    <tr>\n",
       "      <th>count</th>\n",
       "      <td>397440.000000</td>\n",
       "      <td>397440.000000</td>\n",
       "      <td>397440.000000</td>\n",
       "    </tr>\n",
       "    <tr>\n",
       "      <th>mean</th>\n",
       "      <td>11.884534</td>\n",
       "      <td>2.890496</td>\n",
       "      <td>15294.297647</td>\n",
       "    </tr>\n",
       "    <tr>\n",
       "      <th>std</th>\n",
       "      <td>27.942318</td>\n",
       "      <td>3.314445</td>\n",
       "      <td>1713.027495</td>\n",
       "    </tr>\n",
       "    <tr>\n",
       "      <th>min</th>\n",
       "      <td>1.000000</td>\n",
       "      <td>0.001000</td>\n",
       "      <td>12347.000000</td>\n",
       "    </tr>\n",
       "    <tr>\n",
       "      <th>25%</th>\n",
       "      <td>2.000000</td>\n",
       "      <td>1.250000</td>\n",
       "      <td>13969.000000</td>\n",
       "    </tr>\n",
       "    <tr>\n",
       "      <th>50%</th>\n",
       "      <td>6.000000</td>\n",
       "      <td>1.950000</td>\n",
       "      <td>15158.000000</td>\n",
       "    </tr>\n",
       "    <tr>\n",
       "      <th>75%</th>\n",
       "      <td>12.000000</td>\n",
       "      <td>3.750000</td>\n",
       "      <td>16795.000000</td>\n",
       "    </tr>\n",
       "    <tr>\n",
       "      <th>max</th>\n",
       "      <td>600.000000</td>\n",
       "      <td>85.580000</td>\n",
       "      <td>18287.000000</td>\n",
       "    </tr>\n",
       "  </tbody>\n",
       "</table>\n",
       "</div>"
      ],
      "text/plain": [
       "            Quantity          Price    Customer ID\n",
       "count  397440.000000  397440.000000  397440.000000\n",
       "mean       11.884534       2.890496   15294.297647\n",
       "std        27.942318       3.314445    1713.027495\n",
       "min         1.000000       0.001000   12347.000000\n",
       "25%         2.000000       1.250000   13969.000000\n",
       "50%         6.000000       1.950000   15158.000000\n",
       "75%        12.000000       3.750000   16795.000000\n",
       "max       600.000000      85.580000   18287.000000"
      ]
     },
     "execution_count": 8,
     "metadata": {},
     "output_type": "execute_result"
    }
   ],
   "source": [
    "#removing the outliers taking Quantity under 3rd std\n",
    "df3=df2[~(df2.Quantity>600)&~(df2.Price>100)]\n",
    "df3.describe()"
   ]
  },
  {
   "cell_type": "code",
   "execution_count": 9,
   "id": "4313ef1a",
   "metadata": {},
   "outputs": [
    {
     "data": {
      "text/plain": [
       "<AxesSubplot:xlabel='Country'>"
      ]
     },
     "execution_count": 9,
     "metadata": {},
     "output_type": "execute_result"
    },
    {
     "data": {
      "image/png": "[encoded data removed]",
      "text/plain": [
       "<Figure size 864x432 with 1 Axes>"
      ]
     },
     "metadata": {
      "needs_background": "light"
     },
     "output_type": "display_data"
    }
   ],
   "source": [
    "df3.groupby('Country')['Customer ID'].agg('count').plot(kind='bar',figsize=(12,6)) # most of the customers are from UK only, so taking UK's customers only"
   ]
  },
  {
   "cell_type": "code",
   "execution_count": 10,
   "id": "388380b9",
   "metadata": {},
   "outputs": [
    {
     "data": {
      "text/plain": [
       "Country\n",
       "Australia               2.763254\n",
       "Austria                 4.256030\n",
       "Bahrain                 4.644118\n",
       "Belgium                 3.630158\n",
       "Brazil                  4.456250\n",
       "Canada                  2.397600\n",
       "Channel Islands         4.148794\n",
       "Cyprus                  3.952114\n",
       "Czech Republic          3.130800\n",
       "Denmark                 3.146184\n",
       "EIRE                    3.960506\n",
       "European Community      4.830000\n",
       "Finland                 4.901813\n",
       "France                  3.201223\n",
       "Germany                 3.361567\n",
       "Greece                  4.574414\n",
       "Iceland                 2.644011\n",
       "Israel                  3.170451\n",
       "Italy                   4.327886\n",
       "Japan                   2.047421\n",
       "Lebanon                 5.387556\n",
       "Lithuania               2.841143\n",
       "Malta                   4.867768\n",
       "Netherlands             2.607468\n",
       "Norway                  3.863327\n",
       "Poland                  4.173364\n",
       "Portugal                3.051133\n",
       "RSA                     4.352632\n",
       "Saudi Arabia            2.351111\n",
       "Singapore               3.112570\n",
       "Spain                   3.829121\n",
       "Sweden                  3.785011\n",
       "Switzerland             3.470543\n",
       "USA                     2.308939\n",
       "United Arab Emirates    3.380735\n",
       "United Kingdom          2.823190\n",
       "Unspecified             3.219710\n",
       "dtype: float64"
      ]
     },
     "execution_count": 10,
     "metadata": {},
     "output_type": "execute_result"
    }
   ],
   "source": [
    "# removing the duplicates if any\n",
    "df3=df3.drop_duplicates()\n",
    "# average consumption in terms of price per customer ID\n",
    "df3.groupby('Country')['Price'].sum()/df3.groupby('Country')['Customer ID'].agg('count')"
   ]
  },
  {
   "cell_type": "code",
   "execution_count": 11,
   "id": "089ded71",
   "metadata": {
    "scrolled": true
   },
   "outputs": [
    {
     "data": {
      "text/html": [
       "<div>\n",
       "<style scoped>\n",
       "    .dataframe tbody tr th:only-of-type {\n",
       "        vertical-align: middle;\n",
       "    }\n",
       "\n",
       "    .dataframe tbody tr th {\n",
       "        vertical-align: top;\n",
       "    }\n",
       "\n",
       "    .dataframe thead th {\n",
       "        text-align: right;\n",
       "    }\n",
       "</style>\n",
       "<table border=\"1\" class=\"dataframe\">\n",
       "  <thead>\n",
       "    <tr style=\"text-align: right;\">\n",
       "      <th></th>\n",
       "      <th>Invoice</th>\n",
       "      <th>StockCode</th>\n",
       "      <th>Description</th>\n",
       "      <th>Quantity</th>\n",
       "      <th>InvoiceDate</th>\n",
       "      <th>Price</th>\n",
       "      <th>Customer ID</th>\n",
       "      <th>Country</th>\n",
       "    </tr>\n",
       "  </thead>\n",
       "  <tbody>\n",
       "    <tr>\n",
       "      <th>0</th>\n",
       "      <td>536365</td>\n",
       "      <td>85123A</td>\n",
       "      <td>WHITE HANGING HEART T-LIGHT HOLDER</td>\n",
       "      <td>6</td>\n",
       "      <td>2010-12-01 08:26:00</td>\n",
       "      <td>2.55</td>\n",
       "      <td>17850.0</td>\n",
       "      <td>United Kingdom</td>\n",
       "    </tr>\n",
       "    <tr>\n",
       "      <th>1</th>\n",
       "      <td>536365</td>\n",
       "      <td>71053</td>\n",
       "      <td>WHITE METAL LANTERN</td>\n",
       "      <td>6</td>\n",
       "      <td>2010-12-01 08:26:00</td>\n",
       "      <td>3.39</td>\n",
       "      <td>17850.0</td>\n",
       "      <td>United Kingdom</td>\n",
       "    </tr>\n",
       "    <tr>\n",
       "      <th>2</th>\n",
       "      <td>536365</td>\n",
       "      <td>84406B</td>\n",
       "      <td>CREAM CUPID HEARTS COAT HANGER</td>\n",
       "      <td>8</td>\n",
       "      <td>2010-12-01 08:26:00</td>\n",
       "      <td>2.75</td>\n",
       "      <td>17850.0</td>\n",
       "      <td>United Kingdom</td>\n",
       "    </tr>\n",
       "    <tr>\n",
       "      <th>3</th>\n",
       "      <td>536365</td>\n",
       "      <td>84029G</td>\n",
       "      <td>KNITTED UNION FLAG HOT WATER BOTTLE</td>\n",
       "      <td>6</td>\n",
       "      <td>2010-12-01 08:26:00</td>\n",
       "      <td>3.39</td>\n",
       "      <td>17850.0</td>\n",
       "      <td>United Kingdom</td>\n",
       "    </tr>\n",
       "    <tr>\n",
       "      <th>4</th>\n",
       "      <td>536365</td>\n",
       "      <td>84029E</td>\n",
       "      <td>RED WOOLLY HOTTIE WHITE HEART.</td>\n",
       "      <td>6</td>\n",
       "      <td>2010-12-01 08:26:00</td>\n",
       "      <td>3.39</td>\n",
       "      <td>17850.0</td>\n",
       "      <td>United Kingdom</td>\n",
       "    </tr>\n",
       "    <tr>\n",
       "      <th>...</th>\n",
       "      <td>...</td>\n",
       "      <td>...</td>\n",
       "      <td>...</td>\n",
       "      <td>...</td>\n",
       "      <td>...</td>\n",
       "      <td>...</td>\n",
       "      <td>...</td>\n",
       "      <td>...</td>\n",
       "    </tr>\n",
       "    <tr>\n",
       "      <th>541889</th>\n",
       "      <td>581585</td>\n",
       "      <td>22466</td>\n",
       "      <td>FAIRY TALE COTTAGE NIGHT LIGHT</td>\n",
       "      <td>12</td>\n",
       "      <td>2011-12-09 12:31:00</td>\n",
       "      <td>1.95</td>\n",
       "      <td>15804.0</td>\n",
       "      <td>United Kingdom</td>\n",
       "    </tr>\n",
       "    <tr>\n",
       "      <th>541890</th>\n",
       "      <td>581586</td>\n",
       "      <td>22061</td>\n",
       "      <td>LARGE CAKE STAND  HANGING STRAWBERY</td>\n",
       "      <td>8</td>\n",
       "      <td>2011-12-09 12:49:00</td>\n",
       "      <td>2.95</td>\n",
       "      <td>13113.0</td>\n",
       "      <td>United Kingdom</td>\n",
       "    </tr>\n",
       "    <tr>\n",
       "      <th>541891</th>\n",
       "      <td>581586</td>\n",
       "      <td>23275</td>\n",
       "      <td>SET OF 3 HANGING OWLS OLLIE BEAK</td>\n",
       "      <td>24</td>\n",
       "      <td>2011-12-09 12:49:00</td>\n",
       "      <td>1.25</td>\n",
       "      <td>13113.0</td>\n",
       "      <td>United Kingdom</td>\n",
       "    </tr>\n",
       "    <tr>\n",
       "      <th>541892</th>\n",
       "      <td>581586</td>\n",
       "      <td>21217</td>\n",
       "      <td>RED RETROSPOT ROUND CAKE TINS</td>\n",
       "      <td>24</td>\n",
       "      <td>2011-12-09 12:49:00</td>\n",
       "      <td>8.95</td>\n",
       "      <td>13113.0</td>\n",
       "      <td>United Kingdom</td>\n",
       "    </tr>\n",
       "    <tr>\n",
       "      <th>541893</th>\n",
       "      <td>581586</td>\n",
       "      <td>20685</td>\n",
       "      <td>DOORMAT RED RETROSPOT</td>\n",
       "      <td>10</td>\n",
       "      <td>2011-12-09 12:49:00</td>\n",
       "      <td>7.08</td>\n",
       "      <td>13113.0</td>\n",
       "      <td>United Kingdom</td>\n",
       "    </tr>\n",
       "  </tbody>\n",
       "</table>\n",
       "<p>348831 rows × 8 columns</p>\n",
       "</div>"
      ],
      "text/plain": [
       "       Invoice StockCode                          Description  Quantity  \\\n",
       "0       536365    85123A   WHITE HANGING HEART T-LIGHT HOLDER         6   \n",
       "1       536365     71053                  WHITE METAL LANTERN         6   \n",
       "2       536365    84406B       CREAM CUPID HEARTS COAT HANGER         8   \n",
       "3       536365    84029G  KNITTED UNION FLAG HOT WATER BOTTLE         6   \n",
       "4       536365    84029E       RED WOOLLY HOTTIE WHITE HEART.         6   \n",
       "...        ...       ...                                  ...       ...   \n",
       "541889  581585     22466       FAIRY TALE COTTAGE NIGHT LIGHT        12   \n",
       "541890  581586     22061  LARGE CAKE STAND  HANGING STRAWBERY         8   \n",
       "541891  581586     23275     SET OF 3 HANGING OWLS OLLIE BEAK        24   \n",
       "541892  581586     21217        RED RETROSPOT ROUND CAKE TINS        24   \n",
       "541893  581586     20685                DOORMAT RED RETROSPOT        10   \n",
       "\n",
       "               InvoiceDate  Price  Customer ID         Country  \n",
       "0      2010-12-01 08:26:00   2.55      17850.0  United Kingdom  \n",
       "1      2010-12-01 08:26:00   3.39      17850.0  United Kingdom  \n",
       "2      2010-12-01 08:26:00   2.75      17850.0  United Kingdom  \n",
       "3      2010-12-01 08:26:00   3.39      17850.0  United Kingdom  \n",
       "4      2010-12-01 08:26:00   3.39      17850.0  United Kingdom  \n",
       "...                    ...    ...          ...             ...  \n",
       "541889 2011-12-09 12:31:00   1.95      15804.0  United Kingdom  \n",
       "541890 2011-12-09 12:49:00   2.95      13113.0  United Kingdom  \n",
       "541891 2011-12-09 12:49:00   1.25      13113.0  United Kingdom  \n",
       "541892 2011-12-09 12:49:00   8.95      13113.0  United Kingdom  \n",
       "541893 2011-12-09 12:49:00   7.08      13113.0  United Kingdom  \n",
       "\n",
       "[348831 rows x 8 columns]"
      ]
     },
     "execution_count": 11,
     "metadata": {},
     "output_type": "execute_result"
    }
   ],
   "source": [
    "# most of the customers are from UK only, so taking UK's customers only\n",
    "df4=df3[df3.Country=='United Kingdom']\n",
    "df4"
   ]
  },
  {
   "cell_type": "code",
   "execution_count": 12,
   "id": "e1147c4b",
   "metadata": {},
   "outputs": [],
   "source": [
    "# taking useful columns, no specific info from StockCode and Description\n",
    "df5=df4[['Invoice','Customer ID','InvoiceDate','Quantity','Price']]"
   ]
  },
  {
   "cell_type": "code",
   "execution_count": 29,
   "id": "35cfa2c4",
   "metadata": {},
   "outputs": [
    {
     "data": {
      "text/html": [
       "<div>\n",
       "<style scoped>\n",
       "    .dataframe tbody tr th:only-of-type {\n",
       "        vertical-align: middle;\n",
       "    }\n",
       "\n",
       "    .dataframe tbody tr th {\n",
       "        vertical-align: top;\n",
       "    }\n",
       "\n",
       "    .dataframe thead th {\n",
       "        text-align: right;\n",
       "    }\n",
       "</style>\n",
       "<table border=\"1\" class=\"dataframe\">\n",
       "  <thead>\n",
       "    <tr style=\"text-align: right;\">\n",
       "      <th></th>\n",
       "      <th>level_0</th>\n",
       "      <th>index</th>\n",
       "      <th>Invoice</th>\n",
       "      <th>Customer ID</th>\n",
       "      <th>InvoiceDate</th>\n",
       "      <th>Quantity</th>\n",
       "      <th>Price</th>\n",
       "      <th>Total_Price</th>\n",
       "    </tr>\n",
       "  </thead>\n",
       "  <tbody>\n",
       "    <tr>\n",
       "      <th>0</th>\n",
       "      <td>0</td>\n",
       "      <td>0</td>\n",
       "      <td>536365</td>\n",
       "      <td>17850.0</td>\n",
       "      <td>2010-12-01 08:26:00</td>\n",
       "      <td>6</td>\n",
       "      <td>2.55</td>\n",
       "      <td>15.30</td>\n",
       "    </tr>\n",
       "    <tr>\n",
       "      <th>1</th>\n",
       "      <td>1</td>\n",
       "      <td>1</td>\n",
       "      <td>536365</td>\n",
       "      <td>17850.0</td>\n",
       "      <td>2010-12-01 08:26:00</td>\n",
       "      <td>6</td>\n",
       "      <td>3.39</td>\n",
       "      <td>20.34</td>\n",
       "    </tr>\n",
       "  </tbody>\n",
       "</table>\n",
       "</div>"
      ],
      "text/plain": [
       "   level_0  index Invoice  Customer ID         InvoiceDate  Quantity  Price  \\\n",
       "0        0      0  536365      17850.0 2010-12-01 08:26:00         6   2.55   \n",
       "1        1      1  536365      17850.0 2010-12-01 08:26:00         6   3.39   \n",
       "\n",
       "   Total_Price  \n",
       "0        15.30  \n",
       "1        20.34  "
      ]
     },
     "execution_count": 29,
     "metadata": {},
     "output_type": "execute_result"
    }
   ],
   "source": [
    "df5['Total_Price']=df5['Price']*df5['Quantity'] # total price of commulative products\n",
    "df5=df5.reset_index()\n",
    "df5.head(2)"
   ]
  },
  {
   "cell_type": "markdown",
   "id": "69333c83",
   "metadata": {},
   "source": [
    "Customer Segmentation >>> using K-means cluster algo"
   ]
  },
  {
   "cell_type": "code",
   "execution_count": 14,
   "id": "26d5ffa4",
   "metadata": {},
   "outputs": [],
   "source": [
    "series1=df5.groupby('Customer ID')['Total_Price'].sum()"
   ]
  },
  {
   "cell_type": "code",
   "execution_count": 15,
   "id": "9a56985d",
   "metadata": {
    "scrolled": true
   },
   "outputs": [],
   "source": [
    "series2=df5.groupby('Customer ID')['Quantity'].sum()"
   ]
  },
  {
   "cell_type": "code",
   "execution_count": 16,
   "id": "084de68c",
   "metadata": {
    "scrolled": true
   },
   "outputs": [],
   "source": [
    "series3=df5.groupby('Customer ID')['Invoice'].agg('count')"
   ]
  },
  {
   "cell_type": "markdown",
   "id": "0941547f",
   "metadata": {},
   "source": [
    "Total_Price, Quantity, Invoice are the most important feature to categories the customers"
   ]
  },
  {
   "cell_type": "code",
   "execution_count": 17,
   "id": "dc9cccb6",
   "metadata": {
    "scrolled": true
   },
   "outputs": [],
   "source": [
    "final_df=pd.concat([series1,series2,series3],axis=1)\n",
    "final_df=final_df.reset_index()\n",
    "final_df\n",
    "final_df1=final_df.copy()"
   ]
  },
  {
   "cell_type": "code",
   "execution_count": 18,
   "id": "1ec68533",
   "metadata": {},
   "outputs": [],
   "source": [
    "from sklearn.preprocessing import MinMaxScaler\n",
    "scaler = MinMaxScaler()\n",
    "\n",
    "scaler.fit(final_df[['Total_Price']])\n",
    "final_df['Total_Price'] = scaler.transform(final_df[['Total_Price']])\n",
    "\n",
    "scaler.fit(final_df[['Quantity']])\n",
    "final_df['Quantity'] = scaler.transform(final_df[['Quantity']])\n",
    "\n",
    "scaler.fit(final_df[['Invoice']])\n",
    "final_df['Invoice'] = scaler.transform(final_df[['Invoice']])"
   ]
  },
  {
   "cell_type": "code",
   "execution_count": 19,
   "id": "10ed20fc",
   "metadata": {
    "scrolled": true
   },
   "outputs": [
    {
     "data": {
      "image/png": "[encoded data removed]",
      "text/plain": [
       "<Figure size 864x432 with 1 Axes>"
      ]
     },
     "metadata": {
      "needs_background": "light"
     },
     "output_type": "display_data"
    }
   ],
   "source": [
    "X1=final_df.loc[:,['Total_Price','Quantity','Invoice']].values\n",
    "wcss=[]\n",
    "for k in range(1,11):\n",
    "    kmeans = KMeans(n_clusters=k,init='k-means++')\n",
    "    kmeans.fit(X1)\n",
    "    wcss.append(kmeans.inertia_)\n",
    "plt.figure(figsize=(12,6))\n",
    "plt.grid()\n",
    "plt.plot(range(1,11),wcss, linewidth=2, color='red',marker='8')\n",
    "plt.xlabel('k')\n",
    "plt.show()"
   ]
  },
  {
   "cell_type": "markdown",
   "id": "fe72ab13",
   "metadata": {},
   "source": [
    "Considering optimized number of clusters = 4"
   ]
  },
  {
   "cell_type": "code",
   "execution_count": 20,
   "id": "32ee21aa",
   "metadata": {},
   "outputs": [
    {
     "data": {
      "text/plain": [
       "array([0, 3, 0, ..., 0, 2, 0])"
      ]
     },
     "execution_count": 20,
     "metadata": {},
     "output_type": "execute_result"
    }
   ],
   "source": [
    "km = KMeans(n_clusters=4)\n",
    "y_predicted = km.fit_predict(X1)\n",
    "y_predicted"
   ]
  },
  {
   "cell_type": "code",
   "execution_count": 21,
   "id": "07bcdcb3",
   "metadata": {},
   "outputs": [
    {
     "data": {
      "text/html": [
       "<div>\n",
       "<style scoped>\n",
       "    .dataframe tbody tr th:only-of-type {\n",
       "        vertical-align: middle;\n",
       "    }\n",
       "\n",
       "    .dataframe tbody tr th {\n",
       "        vertical-align: top;\n",
       "    }\n",
       "\n",
       "    .dataframe thead th {\n",
       "        text-align: right;\n",
       "    }\n",
       "</style>\n",
       "<table border=\"1\" class=\"dataframe\">\n",
       "  <thead>\n",
       "    <tr style=\"text-align: right;\">\n",
       "      <th></th>\n",
       "      <th>Customer ID</th>\n",
       "      <th>Total_Price</th>\n",
       "      <th>Quantity</th>\n",
       "      <th>Invoice</th>\n",
       "      <th>customer_cluster</th>\n",
       "    </tr>\n",
       "  </thead>\n",
       "  <tbody>\n",
       "    <tr>\n",
       "      <th>0</th>\n",
       "      <td>12747.0</td>\n",
       "      <td>4196.01</td>\n",
       "      <td>1275</td>\n",
       "      <td>103</td>\n",
       "      <td>0</td>\n",
       "    </tr>\n",
       "    <tr>\n",
       "      <th>1</th>\n",
       "      <td>12748.0</td>\n",
       "      <td>31802.69</td>\n",
       "      <td>25285</td>\n",
       "      <td>4410</td>\n",
       "      <td>3</td>\n",
       "    </tr>\n",
       "    <tr>\n",
       "      <th>2</th>\n",
       "      <td>12749.0</td>\n",
       "      <td>4090.88</td>\n",
       "      <td>1471</td>\n",
       "      <td>199</td>\n",
       "      <td>0</td>\n",
       "    </tr>\n",
       "    <tr>\n",
       "      <th>3</th>\n",
       "      <td>12820.0</td>\n",
       "      <td>942.34</td>\n",
       "      <td>722</td>\n",
       "      <td>59</td>\n",
       "      <td>0</td>\n",
       "    </tr>\n",
       "    <tr>\n",
       "      <th>4</th>\n",
       "      <td>12821.0</td>\n",
       "      <td>92.72</td>\n",
       "      <td>70</td>\n",
       "      <td>6</td>\n",
       "      <td>0</td>\n",
       "    </tr>\n",
       "  </tbody>\n",
       "</table>\n",
       "</div>"
      ],
      "text/plain": [
       "   Customer ID  Total_Price  Quantity  Invoice  customer_cluster\n",
       "0      12747.0      4196.01      1275      103                 0\n",
       "1      12748.0     31802.69     25285     4410                 3\n",
       "2      12749.0      4090.88      1471      199                 0\n",
       "3      12820.0       942.34       722       59                 0\n",
       "4      12821.0        92.72        70        6                 0"
      ]
     },
     "execution_count": 21,
     "metadata": {},
     "output_type": "execute_result"
    }
   ],
   "source": [
    "final_df1['customer_cluster']=y_predicted\n",
    "final_df1.head()"
   ]
  },
  {
   "cell_type": "markdown",
   "id": "fd538d4e",
   "metadata": {},
   "source": [
    "To find out the seasonality in data >>>"
   ]
  },
  {
   "cell_type": "code",
   "execution_count": 33,
   "id": "1e0e3b11",
   "metadata": {},
   "outputs": [
    {
     "data": {
      "text/plain": [
       "level_0                      23426\n",
       "index                        42452\n",
       "Invoice                     539988\n",
       "Customer ID                18116.0\n",
       "InvoiceDate    2010-12-23 16:06:00\n",
       "Quantity                         2\n",
       "Price                         1.25\n",
       "Total_Price                    2.5\n",
       "Name: 23426, dtype: object"
      ]
     },
     "execution_count": 33,
     "metadata": {},
     "output_type": "execute_result"
    }
   ],
   "source": [
    "#[df5['InvoiceDate'][i].year==2010 for i in range(len(df5))].count(True)\n",
    "df5.iloc[23426]"
   ]
  },
  {
   "cell_type": "code",
   "execution_count": 34,
   "id": "05f18d54",
   "metadata": {},
   "outputs": [],
   "source": [
    "X=[1,2,3,4,5,6,7,8,9,10,11,12]\n",
    "Year_2011=[]\n",
    "year_2010=[df5['InvoiceDate'][i].year==2010 for i in range(len(df5))].count(True)\n",
    "for mon in range(1,13):\n",
    "    Year_2011.append([df5['InvoiceDate'][i].month==mon for i in range(year_2010,len(df5))].count(True))"
   ]
  },
  {
   "cell_type": "code",
   "execution_count": 35,
   "id": "5b41ba5c",
   "metadata": {},
   "outputs": [
    {
     "data": {
      "text/plain": [
       "<BarContainer object of 12 artists>"
      ]
     },
     "execution_count": 35,
     "metadata": {},
     "output_type": "execute_result"
    },
    {
     "data": {
      "image/png": "[encoded data removed]",
      "text/plain": [
       "<Figure size 432x288 with 1 Axes>"
      ]
     },
     "metadata": {
      "needs_background": "light"
     },
     "output_type": "display_data"
    }
   ],
   "source": [
    "plt.bar(X,Year_2011)"
   ]
  },
  {
   "cell_type": "markdown",
   "id": "0cf6db60",
   "metadata": {},
   "source": [
    "In the month of November we can see a peak in sales, sales continuesly increases from Sep to November "
   ]
  },
  {
   "cell_type": "markdown",
   "id": "55b01b1c",
   "metadata": {},
   "source": [
    " CLTV = ((Average Order Value x Purchase Frequency)/Churn Rate) x Profit margin."
   ]
  },
  {
   "cell_type": "code",
   "execution_count": 36,
   "id": "4dc25ce4",
   "metadata": {},
   "outputs": [
    {
     "data": {
      "text/html": [
       "<div>\n",
       "<style scoped>\n",
       "    .dataframe tbody tr th:only-of-type {\n",
       "        vertical-align: middle;\n",
       "    }\n",
       "\n",
       "    .dataframe tbody tr th {\n",
       "        vertical-align: top;\n",
       "    }\n",
       "\n",
       "    .dataframe thead th {\n",
       "        text-align: right;\n",
       "    }\n",
       "</style>\n",
       "<table border=\"1\" class=\"dataframe\">\n",
       "  <thead>\n",
       "    <tr style=\"text-align: right;\">\n",
       "      <th></th>\n",
       "      <th>Customer ID</th>\n",
       "      <th>Total_Price</th>\n",
       "      <th>Quantity</th>\n",
       "      <th>Invoice</th>\n",
       "      <th>customer_cluster</th>\n",
       "    </tr>\n",
       "  </thead>\n",
       "  <tbody>\n",
       "    <tr>\n",
       "      <th>0</th>\n",
       "      <td>12747.0</td>\n",
       "      <td>4196.01</td>\n",
       "      <td>1275</td>\n",
       "      <td>103</td>\n",
       "      <td>0</td>\n",
       "    </tr>\n",
       "    <tr>\n",
       "      <th>1</th>\n",
       "      <td>12748.0</td>\n",
       "      <td>31802.69</td>\n",
       "      <td>25285</td>\n",
       "      <td>4410</td>\n",
       "      <td>3</td>\n",
       "    </tr>\n",
       "    <tr>\n",
       "      <th>2</th>\n",
       "      <td>12749.0</td>\n",
       "      <td>4090.88</td>\n",
       "      <td>1471</td>\n",
       "      <td>199</td>\n",
       "      <td>0</td>\n",
       "    </tr>\n",
       "    <tr>\n",
       "      <th>3</th>\n",
       "      <td>12820.0</td>\n",
       "      <td>942.34</td>\n",
       "      <td>722</td>\n",
       "      <td>59</td>\n",
       "      <td>0</td>\n",
       "    </tr>\n",
       "    <tr>\n",
       "      <th>4</th>\n",
       "      <td>12821.0</td>\n",
       "      <td>92.72</td>\n",
       "      <td>70</td>\n",
       "      <td>6</td>\n",
       "      <td>0</td>\n",
       "    </tr>\n",
       "    <tr>\n",
       "      <th>...</th>\n",
       "      <td>...</td>\n",
       "      <td>...</td>\n",
       "      <td>...</td>\n",
       "      <td>...</td>\n",
       "      <td>...</td>\n",
       "    </tr>\n",
       "    <tr>\n",
       "      <th>3898</th>\n",
       "      <td>18280.0</td>\n",
       "      <td>180.60</td>\n",
       "      <td>45</td>\n",
       "      <td>10</td>\n",
       "      <td>0</td>\n",
       "    </tr>\n",
       "    <tr>\n",
       "      <th>3899</th>\n",
       "      <td>18281.0</td>\n",
       "      <td>80.82</td>\n",
       "      <td>54</td>\n",
       "      <td>7</td>\n",
       "      <td>0</td>\n",
       "    </tr>\n",
       "    <tr>\n",
       "      <th>3900</th>\n",
       "      <td>18282.0</td>\n",
       "      <td>178.05</td>\n",
       "      <td>103</td>\n",
       "      <td>12</td>\n",
       "      <td>0</td>\n",
       "    </tr>\n",
       "    <tr>\n",
       "      <th>3901</th>\n",
       "      <td>18283.0</td>\n",
       "      <td>2045.53</td>\n",
       "      <td>1357</td>\n",
       "      <td>721</td>\n",
       "      <td>2</td>\n",
       "    </tr>\n",
       "    <tr>\n",
       "      <th>3902</th>\n",
       "      <td>18287.0</td>\n",
       "      <td>1837.28</td>\n",
       "      <td>1586</td>\n",
       "      <td>70</td>\n",
       "      <td>0</td>\n",
       "    </tr>\n",
       "  </tbody>\n",
       "</table>\n",
       "<p>3903 rows × 5 columns</p>\n",
       "</div>"
      ],
      "text/plain": [
       "      Customer ID  Total_Price  Quantity  Invoice  customer_cluster\n",
       "0         12747.0      4196.01      1275      103                 0\n",
       "1         12748.0     31802.69     25285     4410                 3\n",
       "2         12749.0      4090.88      1471      199                 0\n",
       "3         12820.0       942.34       722       59                 0\n",
       "4         12821.0        92.72        70        6                 0\n",
       "...           ...          ...       ...      ...               ...\n",
       "3898      18280.0       180.60        45       10                 0\n",
       "3899      18281.0        80.82        54        7                 0\n",
       "3900      18282.0       178.05       103       12                 0\n",
       "3901      18283.0      2045.53      1357      721                 2\n",
       "3902      18287.0      1837.28      1586       70                 0\n",
       "\n",
       "[3903 rows x 5 columns]"
      ]
     },
     "execution_count": 36,
     "metadata": {},
     "output_type": "execute_result"
    }
   ],
   "source": [
    "final_df1"
   ]
  },
  {
   "cell_type": "code",
   "execution_count": 37,
   "id": "2bbcf1a3",
   "metadata": {},
   "outputs": [],
   "source": [
    "final_df1['avg_order_value']=final_df1['Total_Price']/final_df1['Invoice']"
   ]
  },
  {
   "cell_type": "code",
   "execution_count": 38,
   "id": "cabb46dc",
   "metadata": {},
   "outputs": [],
   "source": [
    "#purchase frequency=Total Number of Orders / Total Number of Customers\n",
    "purchase_frequency=sum(final_df1['Invoice'])/final_df1.shape[0]"
   ]
  },
  {
   "cell_type": "code",
   "execution_count": 39,
   "id": "68f1787a",
   "metadata": {},
   "outputs": [],
   "source": [
    "#churn_rate=1-repeat_rate\n",
    "repeat_rate=final_df1[final_df1.Invoice > 1].shape[0]/final_df1.shape[0]\n",
    "churn_rate=1-repeat_rate"
   ]
  },
  {
   "cell_type": "code",
   "execution_count": 40,
   "id": "390ad927",
   "metadata": {},
   "outputs": [],
   "source": [
    "#Let's assume our business has approx 10% profit on the total sale\n",
    "final_df1['profit_margin']=final_df1['Total_Price']*0.1"
   ]
  },
  {
   "cell_type": "code",
   "execution_count": 41,
   "id": "24b2afa9",
   "metadata": {},
   "outputs": [],
   "source": [
    "# Customer Value\n",
    "final_df1['CLV']=(final_df1['avg_order_value']*purchase_frequency)/churn_rate"
   ]
  },
  {
   "cell_type": "code",
   "execution_count": 42,
   "id": "c2b2ab2e",
   "metadata": {},
   "outputs": [],
   "source": [
    "#Customer Lifetime Value\n",
    "final_df1['cust_lifetime_value']=final_df1['CLV']*final_df1['profit_margin']"
   ]
  },
  {
   "cell_type": "code",
   "execution_count": 43,
   "id": "a2d023d9",
   "metadata": {
    "scrolled": false
   },
   "outputs": [
    {
     "data": {
      "text/html": [
       "<div>\n",
       "<style scoped>\n",
       "    .dataframe tbody tr th:only-of-type {\n",
       "        vertical-align: middle;\n",
       "    }\n",
       "\n",
       "    .dataframe tbody tr th {\n",
       "        vertical-align: top;\n",
       "    }\n",
       "\n",
       "    .dataframe thead th {\n",
       "        text-align: right;\n",
       "    }\n",
       "</style>\n",
       "<table border=\"1\" class=\"dataframe\">\n",
       "  <thead>\n",
       "    <tr style=\"text-align: right;\">\n",
       "      <th></th>\n",
       "      <th>Customer ID</th>\n",
       "      <th>Total_Price</th>\n",
       "      <th>Quantity</th>\n",
       "      <th>Invoice</th>\n",
       "      <th>customer_cluster</th>\n",
       "      <th>avg_order_value</th>\n",
       "      <th>profit_margin</th>\n",
       "      <th>CLV</th>\n",
       "      <th>cust_lifetime_value</th>\n",
       "    </tr>\n",
       "  </thead>\n",
       "  <tbody>\n",
       "    <tr>\n",
       "      <th>0</th>\n",
       "      <td>12747.0</td>\n",
       "      <td>4196.01</td>\n",
       "      <td>1275</td>\n",
       "      <td>103</td>\n",
       "      <td>0</td>\n",
       "      <td>40.737961</td>\n",
       "      <td>419.601</td>\n",
       "      <td>222041.620799</td>\n",
       "      <td>9.316889e+07</td>\n",
       "    </tr>\n",
       "    <tr>\n",
       "      <th>1</th>\n",
       "      <td>12748.0</td>\n",
       "      <td>31802.69</td>\n",
       "      <td>25285</td>\n",
       "      <td>4410</td>\n",
       "      <td>3</td>\n",
       "      <td>7.211494</td>\n",
       "      <td>3180.269</td>\n",
       "      <td>39306.137172</td>\n",
       "      <td>1.250041e+08</td>\n",
       "    </tr>\n",
       "    <tr>\n",
       "      <th>2</th>\n",
       "      <td>12749.0</td>\n",
       "      <td>4090.88</td>\n",
       "      <td>1471</td>\n",
       "      <td>199</td>\n",
       "      <td>0</td>\n",
       "      <td>20.557186</td>\n",
       "      <td>409.088</td>\n",
       "      <td>112046.620704</td>\n",
       "      <td>4.583693e+07</td>\n",
       "    </tr>\n",
       "    <tr>\n",
       "      <th>3</th>\n",
       "      <td>12820.0</td>\n",
       "      <td>942.34</td>\n",
       "      <td>722</td>\n",
       "      <td>59</td>\n",
       "      <td>0</td>\n",
       "      <td>15.971864</td>\n",
       "      <td>94.234</td>\n",
       "      <td>87054.397389</td>\n",
       "      <td>8.203484e+06</td>\n",
       "    </tr>\n",
       "    <tr>\n",
       "      <th>4</th>\n",
       "      <td>12821.0</td>\n",
       "      <td>92.72</td>\n",
       "      <td>70</td>\n",
       "      <td>6</td>\n",
       "      <td>0</td>\n",
       "      <td>15.453333</td>\n",
       "      <td>9.272</td>\n",
       "      <td>84228.151875</td>\n",
       "      <td>7.809634e+05</td>\n",
       "    </tr>\n",
       "    <tr>\n",
       "      <th>...</th>\n",
       "      <td>...</td>\n",
       "      <td>...</td>\n",
       "      <td>...</td>\n",
       "      <td>...</td>\n",
       "      <td>...</td>\n",
       "      <td>...</td>\n",
       "      <td>...</td>\n",
       "      <td>...</td>\n",
       "      <td>...</td>\n",
       "    </tr>\n",
       "    <tr>\n",
       "      <th>3898</th>\n",
       "      <td>18280.0</td>\n",
       "      <td>180.60</td>\n",
       "      <td>45</td>\n",
       "      <td>10</td>\n",
       "      <td>0</td>\n",
       "      <td>18.060000</td>\n",
       "      <td>18.060</td>\n",
       "      <td>98435.747812</td>\n",
       "      <td>1.777750e+06</td>\n",
       "    </tr>\n",
       "    <tr>\n",
       "      <th>3899</th>\n",
       "      <td>18281.0</td>\n",
       "      <td>80.82</td>\n",
       "      <td>54</td>\n",
       "      <td>7</td>\n",
       "      <td>0</td>\n",
       "      <td>11.545714</td>\n",
       "      <td>8.082</td>\n",
       "      <td>62929.735312</td>\n",
       "      <td>5.085981e+05</td>\n",
       "    </tr>\n",
       "    <tr>\n",
       "      <th>3900</th>\n",
       "      <td>18282.0</td>\n",
       "      <td>178.05</td>\n",
       "      <td>103</td>\n",
       "      <td>12</td>\n",
       "      <td>0</td>\n",
       "      <td>14.837500</td>\n",
       "      <td>17.805</td>\n",
       "      <td>80871.561914</td>\n",
       "      <td>1.439918e+06</td>\n",
       "    </tr>\n",
       "    <tr>\n",
       "      <th>3901</th>\n",
       "      <td>18283.0</td>\n",
       "      <td>2045.53</td>\n",
       "      <td>1357</td>\n",
       "      <td>721</td>\n",
       "      <td>2</td>\n",
       "      <td>2.837074</td>\n",
       "      <td>204.553</td>\n",
       "      <td>15463.424832</td>\n",
       "      <td>3.163090e+06</td>\n",
       "    </tr>\n",
       "    <tr>\n",
       "      <th>3902</th>\n",
       "      <td>18287.0</td>\n",
       "      <td>1837.28</td>\n",
       "      <td>1586</td>\n",
       "      <td>70</td>\n",
       "      <td>0</td>\n",
       "      <td>26.246857</td>\n",
       "      <td>183.728</td>\n",
       "      <td>143058.084750</td>\n",
       "      <td>2.628378e+07</td>\n",
       "    </tr>\n",
       "  </tbody>\n",
       "</table>\n",
       "<p>3903 rows × 9 columns</p>\n",
       "</div>"
      ],
      "text/plain": [
       "      Customer ID  Total_Price  Quantity  Invoice  customer_cluster  \\\n",
       "0         12747.0      4196.01      1275      103                 0   \n",
       "1         12748.0     31802.69     25285     4410                 3   \n",
       "2         12749.0      4090.88      1471      199                 0   \n",
       "3         12820.0       942.34       722       59                 0   \n",
       "4         12821.0        92.72        70        6                 0   \n",
       "...           ...          ...       ...      ...               ...   \n",
       "3898      18280.0       180.60        45       10                 0   \n",
       "3899      18281.0        80.82        54        7                 0   \n",
       "3900      18282.0       178.05       103       12                 0   \n",
       "3901      18283.0      2045.53      1357      721                 2   \n",
       "3902      18287.0      1837.28      1586       70                 0   \n",
       "\n",
       "      avg_order_value  profit_margin            CLV  cust_lifetime_value  \n",
       "0           40.737961        419.601  222041.620799         9.316889e+07  \n",
       "1            7.211494       3180.269   39306.137172         1.250041e+08  \n",
       "2           20.557186        409.088  112046.620704         4.583693e+07  \n",
       "3           15.971864         94.234   87054.397389         8.203484e+06  \n",
       "4           15.453333          9.272   84228.151875         7.809634e+05  \n",
       "...               ...            ...            ...                  ...  \n",
       "3898        18.060000         18.060   98435.747812         1.777750e+06  \n",
       "3899        11.545714          8.082   62929.735312         5.085981e+05  \n",
       "3900        14.837500         17.805   80871.561914         1.439918e+06  \n",
       "3901         2.837074        204.553   15463.424832         3.163090e+06  \n",
       "3902        26.246857        183.728  143058.084750         2.628378e+07  \n",
       "\n",
       "[3903 rows x 9 columns]"
      ]
     },
     "execution_count": 43,
     "metadata": {},
     "output_type": "execute_result"
    }
   ],
   "source": [
    "final_df1"
   ]
  },
  {
   "cell_type": "code",
   "execution_count": 1,
   "id": "cb4c6327",
   "metadata": {},
   "outputs": [
    {
     "name": "stdout",
     "output_type": "stream",
     "text": [
      "Collecting jupyter-cjk-xelatex\n",
      "  Downloading jupyter-cjk-xelatex-0.2.tar.gz (1.6 kB)\n",
      "  Preparing metadata (setup.py): started\n",
      "  Preparing metadata (setup.py): finished with status 'done'\n",
      "Requirement already satisfied: jupyter in c:\\users\\91914\\anaconda3\\lib\\site-packages (from jupyter-cjk-xelatex) (1.0.0)\n",
      "Requirement already satisfied: ipykernel in c:\\users\\91914\\anaconda3\\lib\\site-packages (from jupyter->jupyter-cjk-xelatex) (5.3.4)\n",
      "Requirement already satisfied: qtconsole in c:\\users\\91914\\anaconda3\\lib\\site-packages (from jupyter->jupyter-cjk-xelatex) (5.0.3)\n",
      "Requirement already satisfied: nbconvert in c:\\users\\91914\\anaconda3\\lib\\site-packages (from jupyter->jupyter-cjk-xelatex) (6.0.7)\n",
      "Requirement already satisfied: notebook in c:\\users\\91914\\anaconda3\\lib\\site-packages (from jupyter->jupyter-cjk-xelatex) (6.3.0)\n",
      "Requirement already satisfied: jupyter-console in c:\\users\\91914\\anaconda3\\lib\\site-packages (from jupyter->jupyter-cjk-xelatex) (6.4.0)\n",
      "Requirement already satisfied: ipywidgets in c:\\users\\91914\\anaconda3\\lib\\site-packages (from jupyter->jupyter-cjk-xelatex) (7.6.3)\n",
      "Requirement already satisfied: traitlets>=4.1.0 in c:\\users\\91914\\anaconda3\\lib\\site-packages (from ipykernel->jupyter->jupyter-cjk-xelatex) (5.0.5)\n",
      "Requirement already satisfied: tornado>=4.2 in c:\\users\\91914\\anaconda3\\lib\\site-packages (from ipykernel->jupyter->jupyter-cjk-xelatex) (6.1)\n",
      "Requirement already satisfied: jupyter-client in c:\\users\\91914\\anaconda3\\lib\\site-packages (from ipykernel->jupyter->jupyter-cjk-xelatex) (6.1.12)\n",
      "Requirement already satisfied: ipython>=5.0.0 in c:\\users\\91914\\anaconda3\\lib\\site-packages (from ipykernel->jupyter->jupyter-cjk-xelatex) (7.22.0)\n",
      "Requirement already satisfied: nbformat>=4.2.0 in c:\\users\\91914\\anaconda3\\lib\\site-packages (from ipywidgets->jupyter->jupyter-cjk-xelatex) (5.1.3)\n",
      "Requirement already satisfied: widgetsnbextension~=3.5.0 in c:\\users\\91914\\anaconda3\\lib\\site-packages (from ipywidgets->jupyter->jupyter-cjk-xelatex) (3.5.1)\n",
      "Requirement already satisfied: jupyterlab-widgets>=1.0.0 in c:\\users\\91914\\anaconda3\\lib\\site-packages (from ipywidgets->jupyter->jupyter-cjk-xelatex) (1.0.0)\n",
      "Requirement already satisfied: prompt-toolkit!=3.0.0,!=3.0.1,<3.1.0,>=2.0.0 in c:\\users\\91914\\anaconda3\\lib\\site-packages (from jupyter-console->jupyter->jupyter-cjk-xelatex) (3.0.17)\n",
      "Requirement already satisfied: pygments in c:\\users\\91914\\anaconda3\\lib\\site-packages (from jupyter-console->jupyter->jupyter-cjk-xelatex) (2.8.1)\n",
      "Requirement already satisfied: entrypoints>=0.2.2 in c:\\users\\91914\\anaconda3\\lib\\site-packages (from nbconvert->jupyter->jupyter-cjk-xelatex) (0.3)\n",
      "Requirement already satisfied: pandocfilters>=1.4.1 in c:\\users\\91914\\anaconda3\\lib\\site-packages (from nbconvert->jupyter->jupyter-cjk-xelatex) (1.4.3)\n",
      "Requirement already satisfied: mistune<2,>=0.8.1 in c:\\users\\91914\\anaconda3\\lib\\site-packages (from nbconvert->jupyter->jupyter-cjk-xelatex) (0.8.4)\n",
      "Requirement already satisfied: jupyter-core in c:\\users\\91914\\anaconda3\\lib\\site-packages (from nbconvert->jupyter->jupyter-cjk-xelatex) (4.7.1)\n",
      "Requirement already satisfied: nbclient<0.6.0,>=0.5.0 in c:\\users\\91914\\anaconda3\\lib\\site-packages (from nbconvert->jupyter->jupyter-cjk-xelatex) (0.5.3)\n",
      "Requirement already satisfied: defusedxml in c:\\users\\91914\\anaconda3\\lib\\site-packages (from nbconvert->jupyter->jupyter-cjk-xelatex) (0.7.1)\n",
      "Requirement already satisfied: jupyterlab-pygments in c:\\users\\91914\\anaconda3\\lib\\site-packages (from nbconvert->jupyter->jupyter-cjk-xelatex) (0.1.2)\n",
      "Requirement already satisfied: bleach in c:\\users\\91914\\anaconda3\\lib\\site-packages (from nbconvert->jupyter->jupyter-cjk-xelatex) (3.3.0)\n",
      "Requirement already satisfied: jinja2>=2.4 in c:\\users\\91914\\anaconda3\\lib\\site-packages (from nbconvert->jupyter->jupyter-cjk-xelatex) (2.11.3)\n",
      "Requirement already satisfied: testpath in c:\\users\\91914\\anaconda3\\lib\\site-packages (from nbconvert->jupyter->jupyter-cjk-xelatex) (0.4.4)\n",
      "Requirement already satisfied: Send2Trash>=1.5.0 in c:\\users\\91914\\anaconda3\\lib\\site-packages (from notebook->jupyter->jupyter-cjk-xelatex) (1.5.0)\n",
      "Requirement already satisfied: argon2-cffi in c:\\users\\91914\\anaconda3\\lib\\site-packages (from notebook->jupyter->jupyter-cjk-xelatex) (20.1.0)\n",
      "Requirement already satisfied: terminado>=0.8.3 in c:\\users\\91914\\anaconda3\\lib\\site-packages (from notebook->jupyter->jupyter-cjk-xelatex) (0.9.4)\n",
      "Requirement already satisfied: ipython-genutils in c:\\users\\91914\\anaconda3\\lib\\site-packages (from notebook->jupyter->jupyter-cjk-xelatex) (0.2.0)\n",
      "Requirement already satisfied: pyzmq>=17 in c:\\users\\91914\\anaconda3\\lib\\site-packages (from notebook->jupyter->jupyter-cjk-xelatex) (20.0.0)\n",
      "Requirement already satisfied: prometheus-client in c:\\users\\91914\\anaconda3\\lib\\site-packages (from notebook->jupyter->jupyter-cjk-xelatex) (0.10.1)\n",
      "Requirement already satisfied: qtpy in c:\\users\\91914\\anaconda3\\lib\\site-packages (from qtconsole->jupyter->jupyter-cjk-xelatex) (1.9.0)\n",
      "Requirement already satisfied: backcall in c:\\users\\91914\\anaconda3\\lib\\site-packages (from ipython>=5.0.0->ipykernel->jupyter->jupyter-cjk-xelatex) (0.2.0)\n",
      "Requirement already satisfied: decorator in c:\\users\\91914\\anaconda3\\lib\\site-packages (from ipython>=5.0.0->ipykernel->jupyter->jupyter-cjk-xelatex) (5.0.6)\n",
      "Requirement already satisfied: jedi>=0.16 in c:\\users\\91914\\anaconda3\\lib\\site-packages (from ipython>=5.0.0->ipykernel->jupyter->jupyter-cjk-xelatex) (0.17.2)\n",
      "Requirement already satisfied: colorama in c:\\users\\91914\\anaconda3\\lib\\site-packages (from ipython>=5.0.0->ipykernel->jupyter->jupyter-cjk-xelatex) (0.4.4)\n",
      "Requirement already satisfied: setuptools>=18.5 in c:\\users\\91914\\anaconda3\\lib\\site-packages (from ipython>=5.0.0->ipykernel->jupyter->jupyter-cjk-xelatex) (52.0.0.post20210125)\n",
      "Requirement already satisfied: pickleshare in c:\\users\\91914\\anaconda3\\lib\\site-packages (from ipython>=5.0.0->ipykernel->jupyter->jupyter-cjk-xelatex) (0.7.5)\n",
      "Requirement already satisfied: MarkupSafe>=0.23 in c:\\users\\91914\\anaconda3\\lib\\site-packages (from jinja2>=2.4->nbconvert->jupyter->jupyter-cjk-xelatex) (1.1.1)\n",
      "Requirement already satisfied: python-dateutil>=2.1 in c:\\users\\91914\\anaconda3\\lib\\site-packages (from jupyter-client->ipykernel->jupyter->jupyter-cjk-xelatex) (2.8.1)\n",
      "Requirement already satisfied: pywin32>=1.0 in c:\\users\\91914\\anaconda3\\lib\\site-packages (from jupyter-core->nbconvert->jupyter->jupyter-cjk-xelatex) (227)\n",
      "Requirement already satisfied: async-generator in c:\\users\\91914\\anaconda3\\lib\\site-packages (from nbclient<0.6.0,>=0.5.0->nbconvert->jupyter->jupyter-cjk-xelatex) (1.10)\n",
      "Requirement already satisfied: nest-asyncio in c:\\users\\91914\\anaconda3\\lib\\site-packages (from nbclient<0.6.0,>=0.5.0->nbconvert->jupyter->jupyter-cjk-xelatex) (1.5.1)\n",
      "Requirement already satisfied: jsonschema!=2.5.0,>=2.4 in c:\\users\\91914\\anaconda3\\lib\\site-packages (from nbformat>=4.2.0->ipywidgets->jupyter->jupyter-cjk-xelatex) (3.2.0)\n",
      "Requirement already satisfied: wcwidth in c:\\users\\91914\\anaconda3\\lib\\site-packages (from prompt-toolkit!=3.0.0,!=3.0.1,<3.1.0,>=2.0.0->jupyter-console->jupyter->jupyter-cjk-xelatex) (0.2.5)\n",
      "Requirement already satisfied: pywinpty>=0.5 in c:\\users\\91914\\anaconda3\\lib\\site-packages (from terminado>=0.8.3->notebook->jupyter->jupyter-cjk-xelatex) (0.5.7)\n",
      "Requirement already satisfied: six in c:\\users\\91914\\anaconda3\\lib\\site-packages (from argon2-cffi->notebook->jupyter->jupyter-cjk-xelatex) (1.15.0)\n",
      "Requirement already satisfied: cffi>=1.0.0 in c:\\users\\91914\\anaconda3\\lib\\site-packages (from argon2-cffi->notebook->jupyter->jupyter-cjk-xelatex) (1.14.5)\n",
      "Requirement already satisfied: packaging in c:\\users\\91914\\anaconda3\\lib\\site-packages (from bleach->nbconvert->jupyter->jupyter-cjk-xelatex) (20.9)\n",
      "Requirement already satisfied: webencodings in c:\\users\\91914\\anaconda3\\lib\\site-packages (from bleach->nbconvert->jupyter->jupyter-cjk-xelatex) (0.5.1)\n",
      "Requirement already satisfied: pycparser in c:\\users\\91914\\anaconda3\\lib\\site-packages (from cffi>=1.0.0->argon2-cffi->notebook->jupyter->jupyter-cjk-xelatex) (2.20)\n",
      "Requirement already satisfied: parso<0.8.0,>=0.7.0 in c:\\users\\91914\\anaconda3\\lib\\site-packages (from jedi>=0.16->ipython>=5.0.0->ipykernel->jupyter->jupyter-cjk-xelatex) (0.7.0)\n",
      "Requirement already satisfied: attrs>=17.4.0 in c:\\users\\91914\\anaconda3\\lib\\site-packages (from jsonschema!=2.5.0,>=2.4->nbformat>=4.2.0->ipywidgets->jupyter->jupyter-cjk-xelatex) (20.3.0)\n",
      "Requirement already satisfied: pyrsistent>=0.14.0 in c:\\users\\91914\\anaconda3\\lib\\site-packages (from jsonschema!=2.5.0,>=2.4->nbformat>=4.2.0->ipywidgets->jupyter->jupyter-cjk-xelatex) (0.17.3)\n",
      "Requirement already satisfied: pyparsing>=2.0.2 in c:\\users\\91914\\anaconda3\\lib\\site-packages (from packaging->bleach->nbconvert->jupyter->jupyter-cjk-xelatex) (2.4.7)\n",
      "Building wheels for collected packages: jupyter-cjk-xelatex\n",
      "  Building wheel for jupyter-cjk-xelatex (setup.py): started\n",
      "  Building wheel for jupyter-cjk-xelatex (setup.py): finished with status 'done'\n",
      "  Created wheel for jupyter-cjk-xelatex: filename=jupyter_cjk_xelatex-0.2-py3-none-any.whl size=2077 sha256=ffa9cf8efad1ce5920d4b4b9cb6ddf16fa828049150b7ed25d84e6f2dd758a0a\n",
      "  Stored in directory: c:\\users\\91914\\appdata\\local\\pip\\cache\\wheels\\86\\f2\\af\\ed577b70f797ea8e66810a8e15ea49c2e84888e0c4a0815ca3\n",
      "Successfully built jupyter-cjk-xelatex\n",
      "Installing collected packages: jupyter-cjk-xelatex\n",
      "Successfully installed jupyter-cjk-xelatex-0.2\n"
     ]
    }
   ],
   "source": [
    "!pip install jupyter-cjk-xelatex"
   ]
  },
  {
   "cell_type": "markdown",
   "id": "3c21e6d4",
   "metadata": {},
   "source": [
    "Thank you!!"
   ]
  }
 ],
 "metadata": {
  "kernelspec": {
   "display_name": "Python 3",
   "language": "python",
   "name": "python3"
  },
  "language_info": {
   "codemirror_mode": {
    "name": "ipython",
    "version": 3
   },
   "file_extension": ".py",
   "mimetype": "text/x-python",
   "name": "python",
   "nbconvert_exporter": "python",
   "pygments_lexer": "ipython3",
   "version": "3.8.8"
  }
 },
 "nbformat": 4,
 "nbformat_minor": 5
}
